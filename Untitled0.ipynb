{
  "nbformat": 4,
  "nbformat_minor": 0,
  "metadata": {
    "colab": {
      "name": "Untitled0.ipynb",
      "provenance": [],
      "collapsed_sections": [],
      "authorship_tag": "ABX9TyMuRAE5MjeE3Ukj4qP8o+sd",
      "include_colab_link": true
    },
    "kernelspec": {
      "name": "python3",
      "display_name": "Python 3"
    },
    "language_info": {
      "name": "python"
    }
  },
  "cells": [
    {
      "cell_type": "markdown",
      "metadata": {
        "id": "view-in-github",
        "colab_type": "text"
      },
      "source": [
        "<a href=\"https://colab.research.google.com/github/Fauzulazkia462/Kelas-Selasa-Malam-SMT-7/blob/main/Untitled0.ipynb\" target=\"_parent\"><img src=\"https://colab.research.google.com/assets/colab-badge.svg\" alt=\"Open In Colab\"/></a>"
      ]
    },
    {
      "cell_type": "code",
      "metadata": {
        "id": "3lU06GLyP3hl"
      },
      "source": [
        "# Variabel\n",
        "\n",
        "a=2 # integer\n",
        "hewan = \"Gajah\" #String\n",
        "b = 'A' # di python ini string tp di C in char\n",
        "c = True #Boolean\n",
        "e = 2.0 #float, gda namanya \"double\", smua desimal namanya float\n",
        "f = [] # list / array\n",
        "g = {} #dictionary\n",
        "h = () #tuple"
      ],
      "execution_count": null,
      "outputs": []
    },
    {
      "cell_type": "code",
      "metadata": {
        "colab": {
          "base_uri": "https://localhost:8080/"
        },
        "id": "Xw7QvWD_SE3W",
        "outputId": "44267e5c-551c-4875-c274-5da3823d5d4c"
      },
      "source": [
        "#printing\n",
        "\n",
        "print (hewan)\n",
        "print (\"Singa\")\n",
        "print (2)\n",
        "print (2+3)\n",
        "print (True)\n",
        "print (\"Yeah\")\n",
        "\n",
        "print (\"Nama Hewannya adalah \" + hewan)\n",
        "# print (\"Nama Hewannya adalah {}\".format(hewan) )  #nilai hewan masuk ke dalam dict\n",
        "print (\"Nama : {}, Tempat Tinggal : {}, Umur : {}\".format(\"Pojul\", \"Aceh\", \"19\"))\n",
        "\n",
        "Nama_siswa = [\"Pojul\", \"Bereh\", \"NyanBan\"]\n",
        "print(Nama_siswa[0])\n",
        "print (Nama_siswa[0:2])\n",
        "\n",
        "\n",
        "Nama_siswa.append(2)  #Tambah masukin nnilai '2' ke list/array"
      ],
      "execution_count": null,
      "outputs": [
        {
          "output_type": "stream",
          "name": "stdout",
          "text": [
            "Gajah\n",
            "Singa\n",
            "2\n",
            "5\n",
            "True\n",
            "Yeah\n",
            "Nama Hewannya adalah Gajah\n",
            "Nama : Pojul, Tempat Tinggal : Aceh, Umur : 19\n",
            "Pojul\n",
            "['Pojul', 'Bereh']\n"
          ]
        }
      ]
    },
    {
      "cell_type": "code",
      "metadata": {
        "colab": {
          "base_uri": "https://localhost:8080/"
        },
        "id": "D4JeAF2AXyuG",
        "outputId": "96cefc84-996e-4f30-f3b9-17231d2adfac"
      },
      "source": [
        "\n",
        "\n",
        "print (\"Hobi saya adalah : {}\".format(\"Berenang\"))"
      ],
      "execution_count": null,
      "outputs": [
        {
          "output_type": "stream",
          "name": "stdout",
          "text": [
            "Hobi saya adalah : Berenang\n"
          ]
        }
      ]
    }
  ]
}
{
  "nbformat": 4,
  "nbformat_minor": 0,
  "metadata": {
    "colab": {
      "name": "tugas luas lingkaran.ipynb",
      "provenance": [],
      "authorship_tag": "ABX9TyNu2YaeQZHtaV2p1JqALh1n",
      "include_colab_link": true
    },
    "kernelspec": {
      "name": "python3",
      "display_name": "Python 3"
    },
    "language_info": {
      "name": "python"
    }
  },
  "cells": [
    {
      "cell_type": "markdown",
      "metadata": {
        "id": "view-in-github",
        "colab_type": "text"
      },
      "source": [
        "<a href=\"https://colab.research.google.com/github/Fauzulazkia462/Kelas-Selasa-Malam-SMT-7/blob/main/tugas_luas_lingkaran.ipynb\" target=\"_parent\"><img src=\"https://colab.research.google.com/assets/colab-badge.svg\" alt=\"Open In Colab\"/></a>"
      ]
    },
    {
      "cell_type": "code",
      "metadata": {
        "colab": {
          "base_uri": "https://localhost:8080/"
        },
        "id": "aRGe1WAw6pyP",
        "outputId": "665512d8-b6b6-4de9-de4f-f0bc108f24e7"
      },
      "source": [
        "#  tugas menghitung luas dan keliling lingkaran\n",
        "\n",
        "r = int (input (\"Masukkan nilai jari-jari lingkaran \"))\n",
        "\n",
        "phi = 22/7\n",
        "luas = phi*r*r\n",
        "keliling = 2*phi*r\n",
        "\n",
        "print (\"Luas Lingkaran tersebut adalah :\", luas)\n",
        "print (\"Keliling Lingkaran tersebut adalah :\", keliling)\n",
        "\n",
        "\n"
      ],
      "execution_count": 4,
      "outputs": [
        {
          "output_type": "stream",
          "name": "stdout",
          "text": [
            "Masukkan nilai jari-jari lingkaran 70\n",
            "Luas Lingkaran tersebut adalah : 15400.0\n",
            "Keliling Lingkaran tersebut adalah : 440.0\n"
          ]
        }
      ]
    }
  ]
}